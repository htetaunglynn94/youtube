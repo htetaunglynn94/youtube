{
 "cells": [
  {
   "cell_type": "markdown",
   "id": "58d64b34-fea3-401a-82dd-56464b48bb90",
   "metadata": {},
   "source": [
    "In this tutorial, we will cover:\n",
    "* Filter operation\n",
    "* Logical operation\n",
    "* invert operation"
   ]
  },
  {
   "cell_type": "code",
   "execution_count": 1,
   "id": "934969b5-c180-44ea-bfcb-6f46e1ac4288",
   "metadata": {
    "tags": []
   },
   "outputs": [
    {
     "name": "stderr",
     "output_type": "stream",
     "text": [
      "24/03/18 13:33:28 WARN Utils: Your hostname, htetaunglynn resolves to a loopback address: 127.0.1.1; using 192.168.61.214 instead (on interface wlo1)\n",
      "24/03/18 13:33:28 WARN Utils: Set SPARK_LOCAL_IP if you need to bind to another address\n",
      "Setting default log level to \"WARN\".\n",
      "To adjust logging level use sc.setLogLevel(newLevel). For SparkR, use setLogLevel(newLevel).\n",
      "24/03/18 13:33:29 WARN NativeCodeLoader: Unable to load native-hadoop library for your platform... using builtin-java classes where applicable\n",
      "24/03/18 13:33:29 WARN Utils: Service 'SparkUI' could not bind on port 4040. Attempting port 4041.\n"
     ]
    }
   ],
   "source": [
    "from pyspark.sql import SparkSession\n",
    "spark = SparkSession.builder.appName('dataframe').getOrCreate()"
   ]
  },
  {
   "cell_type": "code",
   "execution_count": 3,
   "id": "4b2e8927-3c34-4661-88f6-5434edcfe733",
   "metadata": {
    "tags": []
   },
   "outputs": [
    {
     "name": "stdout",
     "output_type": "stream",
     "text": [
      "+-----+---+----------+-------+\n",
      "| name|age|experience| salary|\n",
      "+-----+---+----------+-------+\n",
      "| Htet| 21|         5| 600000|\n",
      "| Aung| 29|         4| 300000|\n",
      "| Lynn| 30|         9|1000000|\n",
      "|  Zaw| 25|         5| 400000|\n",
      "|   Su| 31|         8| 800000|\n",
      "|Thida| 26|         7|1200000|\n",
      "+-----+---+----------+-------+\n",
      "\n"
     ]
    }
   ],
   "source": [
    "df = spark.read.csv('test1.csv', header=True, inferSchema=True)\n",
    "df.show()"
   ]
  },
  {
   "cell_type": "markdown",
   "id": "ecf45718-2215-448a-872c-1d7ccab2a05f",
   "metadata": {},
   "source": [
    "## Filter operations"
   ]
  },
  {
   "cell_type": "code",
   "execution_count": 16,
   "id": "8de44239-d70b-49f7-9004-1b3014897289",
   "metadata": {
    "tags": []
   },
   "outputs": [
    {
     "name": "stdout",
     "output_type": "stream",
     "text": [
      "+----+---+----------+------+\n",
      "|name|age|experience|salary|\n",
      "+----+---+----------+------+\n",
      "|Htet| 21|         5|600000|\n",
      "|Aung| 29|         4|300000|\n",
      "| Zaw| 25|         5|400000|\n",
      "+----+---+----------+------+\n",
      "\n"
     ]
    }
   ],
   "source": [
    "# salary of the people less than or equal to 600000\n",
    "df.filter('salary <= 600000').show()"
   ]
  },
  {
   "cell_type": "code",
   "execution_count": 17,
   "id": "c9c7965e-9b65-43c3-b946-4c22e3be7ef7",
   "metadata": {
    "tags": []
   },
   "outputs": [
    {
     "name": "stdout",
     "output_type": "stream",
     "text": [
      "+----+---+\n",
      "|name|age|\n",
      "+----+---+\n",
      "|Htet| 21|\n",
      "|Aung| 29|\n",
      "| Zaw| 25|\n",
      "+----+---+\n",
      "\n"
     ]
    }
   ],
   "source": [
    "# filter with specific columns\n",
    "df.filter('salary <= 600000').select(['name','age']).show()"
   ]
  },
  {
   "cell_type": "code",
   "execution_count": 18,
   "id": "38a5851a-5ef0-4560-bf6f-9875cf8cd7a5",
   "metadata": {
    "tags": []
   },
   "outputs": [
    {
     "name": "stdout",
     "output_type": "stream",
     "text": [
      "+----+---+----------+------+\n",
      "|name|age|experience|salary|\n",
      "+----+---+----------+------+\n",
      "|Htet| 21|         5|600000|\n",
      "| Zaw| 25|         5|400000|\n",
      "+----+---+----------+------+\n",
      "\n"
     ]
    }
   ],
   "source": [
    "# filter 2 conditions using '&'\n",
    "df.filter((df['salary'] <= 600000) & \n",
    "          (df['salary'] > 300000)).show()"
   ]
  },
  {
   "cell_type": "code",
   "execution_count": 20,
   "id": "a31c0902-b3d7-42c1-8778-f2ebb49f5d0b",
   "metadata": {
    "tags": []
   },
   "outputs": [
    {
     "name": "stdout",
     "output_type": "stream",
     "text": [
      "+-----+---+----------+-------+\n",
      "| name|age|experience| salary|\n",
      "+-----+---+----------+-------+\n",
      "| Aung| 29|         4| 300000|\n",
      "| Lynn| 30|         9|1000000|\n",
      "|   Su| 31|         8| 800000|\n",
      "|Thida| 26|         7|1200000|\n",
      "+-----+---+----------+-------+\n",
      "\n"
     ]
    }
   ],
   "source": [
    "# filter 2 conditions using '|'\n",
    "df.filter((df['salary'] > 600000) | \n",
    "          (df['salary'] <= 300000)).show()"
   ]
  },
  {
   "cell_type": "code",
   "execution_count": 23,
   "id": "bcbe4c8a-3b88-4166-871e-8f365eb71b92",
   "metadata": {
    "tags": []
   },
   "outputs": [
    {
     "name": "stdout",
     "output_type": "stream",
     "text": [
      "+-----+---+----------+-------+\n",
      "| name|age|experience| salary|\n",
      "+-----+---+----------+-------+\n",
      "| Lynn| 30|         9|1000000|\n",
      "|   Su| 31|         8| 800000|\n",
      "|Thida| 26|         7|1200000|\n",
      "+-----+---+----------+-------+\n",
      "\n"
     ]
    }
   ],
   "source": [
    "# inverse operation\n",
    "df.filter(~(df['salary'] <= 600000)).show()"
   ]
  },
  {
   "cell_type": "code",
   "execution_count": null,
   "id": "9eb67650-dbf1-44b4-8893-04ad5f8f6d10",
   "metadata": {},
   "outputs": [],
   "source": []
  }
 ],
 "metadata": {
  "kernelspec": {
   "display_name": "Python 3 (ipykernel)",
   "language": "python",
   "name": "python3"
  },
  "language_info": {
   "codemirror_mode": {
    "name": "ipython",
    "version": 3
   },
   "file_extension": ".py",
   "mimetype": "text/x-python",
   "name": "python",
   "nbconvert_exporter": "python",
   "pygments_lexer": "ipython3",
   "version": "3.11.5"
  }
 },
 "nbformat": 4,
 "nbformat_minor": 5
}
