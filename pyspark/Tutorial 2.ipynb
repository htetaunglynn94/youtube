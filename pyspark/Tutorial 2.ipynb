{
 "cells": [
  {
   "cell_type": "markdown",
   "id": "0f0e4646-14a8-449e-b57b-9d41302663ba",
   "metadata": {
    "tags": []
   },
   "source": [
    "# Part-1"
   ]
  },
  {
   "cell_type": "markdown",
   "id": "26405380-f14e-458d-ab63-05552fada623",
   "metadata": {},
   "source": [
    "__In this tutorial, we will cover__\n",
    "* PySpark dataframe\n",
    "* Reading the dataset\n",
    "* Checking the datatypes of the column (schema)\n",
    "* Selecting columns and indexing\n",
    "* Check describe option similar to pandas\n",
    "* Adding columns\n",
    "* Dropping columns\n",
    "* Renaming columns"
   ]
  },
  {
   "cell_type": "code",
   "execution_count": 1,
   "id": "bdbfeed3-f06c-4956-836f-dc5492a507ff",
   "metadata": {
    "tags": []
   },
   "outputs": [],
   "source": [
    "from pyspark.sql import SparkSession"
   ]
  },
  {
   "cell_type": "code",
   "execution_count": 2,
   "id": "62b33931-3703-404a-bfec-cbd80dc97892",
   "metadata": {
    "tags": []
   },
   "outputs": [
    {
     "name": "stderr",
     "output_type": "stream",
     "text": [
      "24/03/16 16:07:04 WARN Utils: Your hostname, htetaunglynn resolves to a loopback address: 127.0.1.1; using 192.168.61.214 instead (on interface wlo1)\n",
      "24/03/16 16:07:04 WARN Utils: Set SPARK_LOCAL_IP if you need to bind to another address\n",
      "Setting default log level to \"WARN\".\n",
      "To adjust logging level use sc.setLogLevel(newLevel). For SparkR, use setLogLevel(newLevel).\n",
      "24/03/16 16:07:04 WARN NativeCodeLoader: Unable to load native-hadoop library for your platform... using builtin-java classes where applicable\n",
      "24/03/16 16:07:05 WARN Utils: Service 'SparkUI' could not bind on port 4040. Attempting port 4041.\n"
     ]
    }
   ],
   "source": [
    "spark = SparkSession.builder.appName('Dataframe').getOrCreate()"
   ]
  },
  {
   "cell_type": "code",
   "execution_count": 3,
   "id": "f2016724-fc01-4bbc-95bf-38f090c58b34",
   "metadata": {
    "tags": []
   },
   "outputs": [
    {
     "data": {
      "text/html": [
       "\n",
       "            <div>\n",
       "                <p><b>SparkSession - in-memory</b></p>\n",
       "                \n",
       "        <div>\n",
       "            <p><b>SparkContext</b></p>\n",
       "\n",
       "            <p><a href=\"http://192.168.61.214:4041\">Spark UI</a></p>\n",
       "\n",
       "            <dl>\n",
       "              <dt>Version</dt>\n",
       "                <dd><code>v3.5.1</code></dd>\n",
       "              <dt>Master</dt>\n",
       "                <dd><code>local[*]</code></dd>\n",
       "              <dt>AppName</dt>\n",
       "                <dd><code>Dataframe</code></dd>\n",
       "            </dl>\n",
       "        </div>\n",
       "        \n",
       "            </div>\n",
       "        "
      ],
      "text/plain": [
       "<pyspark.sql.session.SparkSession at 0x7dd6608f3450>"
      ]
     },
     "execution_count": 3,
     "metadata": {},
     "output_type": "execute_result"
    }
   ],
   "source": [
    "spark"
   ]
  },
  {
   "cell_type": "code",
   "execution_count": 4,
   "id": "ba7c2bfd-f885-419d-be51-58b7cafc962f",
   "metadata": {
    "tags": []
   },
   "outputs": [
    {
     "name": "stdout",
     "output_type": "stream",
     "text": [
      "+----+---+----------+\n",
      "|name|age|experience|\n",
      "+----+---+----------+\n",
      "|Htet| 21|         5|\n",
      "|Aung| 29|         4|\n",
      "|Lynn| 30|         9|\n",
      "+----+---+----------+\n",
      "\n"
     ]
    }
   ],
   "source": [
    "# read dataset\n",
    "df_ps = spark.read.option('header', 'true').csv('test1.csv')\n",
    "df_ps.show()"
   ]
  },
  {
   "cell_type": "code",
   "execution_count": 5,
   "id": "e6ebde56-66f5-409a-a5f5-cfb32741092b",
   "metadata": {
    "tags": []
   },
   "outputs": [
    {
     "name": "stdout",
     "output_type": "stream",
     "text": [
      "root\n",
      " |-- name: string (nullable = true)\n",
      " |-- age: string (nullable = true)\n",
      " |-- experience: string (nullable = true)\n",
      "\n"
     ]
    }
   ],
   "source": [
    "# check the schema\n",
    "df_ps.printSchema()"
   ]
  },
  {
   "cell_type": "markdown",
   "id": "7ae72e0b-052a-4fde-8385-814438f77b0c",
   "metadata": {},
   "source": [
    "The schema resulting string type. Need to add parameter `inferSchema=True` for proper schema."
   ]
  },
  {
   "cell_type": "code",
   "execution_count": 6,
   "id": "792f56f9-d7cd-4c1b-8ed0-3d041aa48198",
   "metadata": {
    "tags": []
   },
   "outputs": [
    {
     "name": "stdout",
     "output_type": "stream",
     "text": [
      "root\n",
      " |-- name: string (nullable = true)\n",
      " |-- age: integer (nullable = true)\n",
      " |-- experience: integer (nullable = true)\n",
      "\n"
     ]
    }
   ],
   "source": [
    "df_ps = spark.read.option('header', 'true').csv('test1.csv', inferSchema=True)\n",
    "df_ps.printSchema()"
   ]
  },
  {
   "cell_type": "code",
   "execution_count": 7,
   "id": "cd6ce961-e5d7-44cd-9894-26bb646c40bf",
   "metadata": {
    "tags": []
   },
   "outputs": [
    {
     "name": "stdout",
     "output_type": "stream",
     "text": [
      "root\n",
      " |-- name: string (nullable = true)\n",
      " |-- age: integer (nullable = true)\n",
      " |-- experience: integer (nullable = true)\n",
      "\n"
     ]
    }
   ],
   "source": [
    "df_ps = spark.read.csv('test1.csv', header=True, inferSchema=True)\n",
    "df_ps.printSchema()"
   ]
  },
  {
   "cell_type": "code",
   "execution_count": 8,
   "id": "76bb6006-67ef-4118-8ab8-1a90d641b0d5",
   "metadata": {
    "tags": []
   },
   "outputs": [
    {
     "data": {
      "text/plain": [
       "pyspark.sql.dataframe.DataFrame"
      ]
     },
     "execution_count": 8,
     "metadata": {},
     "output_type": "execute_result"
    }
   ],
   "source": [
    "type(df_ps)"
   ]
  },
  {
   "cell_type": "markdown",
   "id": "bf41aa00-ea0c-4028-a835-edfa1a613546",
   "metadata": {},
   "source": [
    "**Dataframe is a datastructure.**"
   ]
  },
  {
   "cell_type": "code",
   "execution_count": 9,
   "id": "72dc692c-2df3-4ca8-872c-f66d0d79270d",
   "metadata": {
    "tags": []
   },
   "outputs": [
    {
     "data": {
      "text/plain": [
       "['name', 'age', 'experience']"
      ]
     },
     "execution_count": 9,
     "metadata": {},
     "output_type": "execute_result"
    }
   ],
   "source": [
    "df_ps.columns"
   ]
  },
  {
   "cell_type": "code",
   "execution_count": 10,
   "id": "36ecd5b6-1e95-4acc-9eb9-5f2b1c780f09",
   "metadata": {
    "tags": []
   },
   "outputs": [
    {
     "data": {
      "text/plain": [
       "[Row(name='Htet', age=21, experience=5),\n",
       " Row(name='Aung', age=29, experience=4),\n",
       " Row(name='Lynn', age=30, experience=9)]"
      ]
     },
     "execution_count": 10,
     "metadata": {},
     "output_type": "execute_result"
    }
   ],
   "source": [
    "df_ps.head(3)    # list format"
   ]
  },
  {
   "cell_type": "code",
   "execution_count": 11,
   "id": "99a73107-6c06-4e32-8745-62bc693e5cf8",
   "metadata": {
    "tags": []
   },
   "outputs": [
    {
     "data": {
      "text/plain": [
       "DataFrame[name: string]"
      ]
     },
     "execution_count": 11,
     "metadata": {},
     "output_type": "execute_result"
    }
   ],
   "source": [
    "df_ps.select('name')"
   ]
  },
  {
   "cell_type": "code",
   "execution_count": 12,
   "id": "e5becba9-6133-4286-9881-77c3c5bb63f5",
   "metadata": {
    "tags": []
   },
   "outputs": [
    {
     "name": "stdout",
     "output_type": "stream",
     "text": [
      "+----+\n",
      "|name|\n",
      "+----+\n",
      "|Htet|\n",
      "|Aung|\n",
      "|Lynn|\n",
      "+----+\n",
      "\n"
     ]
    }
   ],
   "source": [
    "df_ps.select('name').show()"
   ]
  },
  {
   "cell_type": "code",
   "execution_count": 13,
   "id": "5a7054fb-171a-4435-9312-8fc9f39024eb",
   "metadata": {
    "tags": []
   },
   "outputs": [
    {
     "data": {
      "text/plain": [
       "pyspark.sql.dataframe.DataFrame"
      ]
     },
     "execution_count": 13,
     "metadata": {},
     "output_type": "execute_result"
    }
   ],
   "source": [
    "type(df_ps.select('name'))"
   ]
  },
  {
   "cell_type": "code",
   "execution_count": 14,
   "id": "dc72bbf5-882c-47e2-a360-2d31a3c64ec1",
   "metadata": {
    "tags": []
   },
   "outputs": [
    {
     "name": "stdout",
     "output_type": "stream",
     "text": [
      "+----+----------+\n",
      "|name|experience|\n",
      "+----+----------+\n",
      "|Htet|         5|\n",
      "|Aung|         4|\n",
      "|Lynn|         9|\n",
      "+----+----------+\n",
      "\n"
     ]
    }
   ],
   "source": [
    "df_ps.select(['name','experience']).show()"
   ]
  },
  {
   "cell_type": "code",
   "execution_count": 15,
   "id": "1b123460-a298-4659-843a-3af5b2972eca",
   "metadata": {
    "tags": []
   },
   "outputs": [
    {
     "data": {
      "text/plain": [
       "Column<'name'>"
      ]
     },
     "execution_count": 15,
     "metadata": {},
     "output_type": "execute_result"
    }
   ],
   "source": [
    "df_ps['name']       # .show() not work"
   ]
  },
  {
   "cell_type": "code",
   "execution_count": 16,
   "id": "6fde8789-ab14-40a5-a6c7-2c85c4c8dc56",
   "metadata": {
    "tags": []
   },
   "outputs": [
    {
     "data": {
      "text/plain": [
       "[('name', 'string'), ('age', 'int'), ('experience', 'int')]"
      ]
     },
     "execution_count": 16,
     "metadata": {},
     "output_type": "execute_result"
    }
   ],
   "source": [
    "df_ps.dtypes"
   ]
  },
  {
   "cell_type": "code",
   "execution_count": 17,
   "id": "51bd9bc7-275f-4ab3-9c91-9ce74db753ae",
   "metadata": {
    "tags": []
   },
   "outputs": [
    {
     "name": "stdout",
     "output_type": "stream",
     "text": [
      "+-------+----+------------------+------------------+\n",
      "|summary|name|               age|        experience|\n",
      "+-------+----+------------------+------------------+\n",
      "|  count|   3|                 3|                 3|\n",
      "|   mean|NULL|26.666666666666668|               6.0|\n",
      "| stddev|NULL| 4.932882862316247|2.6457513110645907|\n",
      "|    min|Aung|                21|                 4|\n",
      "|    max|Lynn|                30|                 9|\n",
      "+-------+----+------------------+------------------+\n",
      "\n"
     ]
    }
   ],
   "source": [
    "df_ps.describe().show()\n",
    "# taking string column as well"
   ]
  },
  {
   "cell_type": "code",
   "execution_count": 18,
   "id": "a2e18c81-bce2-4be1-bf1b-c2e484efdad2",
   "metadata": {
    "tags": []
   },
   "outputs": [
    {
     "name": "stdout",
     "output_type": "stream",
     "text": [
      "+----+---+----------+-----------------------+\n",
      "|name|age|experience|experience after 2 year|\n",
      "+----+---+----------+-----------------------+\n",
      "|Htet| 21|         5|                      7|\n",
      "|Aung| 29|         4|                      6|\n",
      "|Lynn| 30|         9|                     11|\n",
      "+----+---+----------+-----------------------+\n",
      "\n"
     ]
    }
   ],
   "source": [
    "# Adding coolumns in dataframe\n",
    "df_ps = df_ps.withColumn('experience after 2 year', df_ps['experience']+2)\n",
    "df_ps.show()"
   ]
  },
  {
   "cell_type": "code",
   "execution_count": 19,
   "id": "70ccdbd2-67c4-497f-b076-d3b347dc2fcd",
   "metadata": {
    "tags": []
   },
   "outputs": [
    {
     "name": "stdout",
     "output_type": "stream",
     "text": [
      "+----+---+----------+\n",
      "|name|age|experience|\n",
      "+----+---+----------+\n",
      "|Htet| 21|         5|\n",
      "|Aung| 29|         4|\n",
      "|Lynn| 30|         9|\n",
      "+----+---+----------+\n",
      "\n"
     ]
    }
   ],
   "source": [
    "# Drop columns\n",
    "df_ps = df_ps.drop('experience after 2 year')\n",
    "df_ps.show()"
   ]
  },
  {
   "cell_type": "code",
   "execution_count": 21,
   "id": "4ac60ced-c876-46cb-a132-3d6e7ebef257",
   "metadata": {
    "tags": []
   },
   "outputs": [
    {
     "name": "stdout",
     "output_type": "stream",
     "text": [
      "+--------+---+----------+\n",
      "|new_name|age|experience|\n",
      "+--------+---+----------+\n",
      "|    Htet| 21|         5|\n",
      "|    Aung| 29|         4|\n",
      "|    Lynn| 30|         9|\n",
      "+--------+---+----------+\n",
      "\n"
     ]
    }
   ],
   "source": [
    "# Rename columns\n",
    "df_ps.withColumnRenamed('name','new_name').show()"
   ]
  },
  {
   "cell_type": "markdown",
   "id": "6823ff55-21a4-44f7-a691-dc12917cb686",
   "metadata": {},
   "source": [
    "# Part-2"
   ]
  },
  {
   "cell_type": "code",
   "execution_count": null,
   "id": "3989ab12-dadb-4139-9d33-0ee1d620c24d",
   "metadata": {},
   "outputs": [],
   "source": []
  },
  {
   "cell_type": "code",
   "execution_count": null,
   "id": "550af87f-1dc1-483e-b954-01b62b534299",
   "metadata": {},
   "outputs": [],
   "source": []
  },
  {
   "cell_type": "code",
   "execution_count": null,
   "id": "97dc6a4e-2d61-45f7-bf58-c9f1edd23b08",
   "metadata": {},
   "outputs": [],
   "source": []
  },
  {
   "cell_type": "code",
   "execution_count": null,
   "id": "81946dd9-1b60-4bb7-b97c-50cd39f136f8",
   "metadata": {},
   "outputs": [],
   "source": []
  },
  {
   "cell_type": "code",
   "execution_count": null,
   "id": "30ce5702-efb4-41bc-9093-f7bc9868e949",
   "metadata": {},
   "outputs": [],
   "source": []
  },
  {
   "cell_type": "code",
   "execution_count": null,
   "id": "003e13c5-ba28-49d1-bb22-a008cba0c664",
   "metadata": {},
   "outputs": [],
   "source": []
  },
  {
   "cell_type": "code",
   "execution_count": null,
   "id": "b424695c-730e-4576-905e-de065bae57ac",
   "metadata": {},
   "outputs": [],
   "source": []
  }
 ],
 "metadata": {
  "kernelspec": {
   "display_name": "Python 3 (ipykernel)",
   "language": "python",
   "name": "python3"
  },
  "language_info": {
   "codemirror_mode": {
    "name": "ipython",
    "version": 3
   },
   "file_extension": ".py",
   "mimetype": "text/x-python",
   "name": "python",
   "nbconvert_exporter": "python",
   "pygments_lexer": "ipython3",
   "version": "3.11.5"
  }
 },
 "nbformat": 4,
 "nbformat_minor": 5
}
