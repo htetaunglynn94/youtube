{
 "cells": [
  {
   "cell_type": "markdown",
   "id": "8eeae048-8832-4648-8dad-b556c1d8ec6e",
   "metadata": {},
   "source": [
    "# Machine Learning in pyspark"
   ]
  },
  {
   "cell_type": "code",
   "execution_count": 3,
   "id": "edf07090-d845-4659-8b2a-6a8f2b8536b3",
   "metadata": {
    "tags": []
   },
   "outputs": [
    {
     "name": "stderr",
     "output_type": "stream",
     "text": [
      "24/03/18 14:31:07 WARN Utils: Your hostname, htetaunglynn resolves to a loopback address: 127.0.1.1; using 192.168.61.202 instead (on interface wlo1)\n",
      "24/03/18 14:31:07 WARN Utils: Set SPARK_LOCAL_IP if you need to bind to another address\n",
      "Setting default log level to \"WARN\".\n",
      "To adjust logging level use sc.setLogLevel(newLevel). For SparkR, use setLogLevel(newLevel).\n",
      "24/03/18 14:31:07 WARN NativeCodeLoader: Unable to load native-hadoop library for your platform... using builtin-java classes where applicable\n",
      "24/03/18 14:31:08 WARN Utils: Service 'SparkUI' could not bind on port 4040. Attempting port 4041.\n",
      "24/03/18 14:31:08 WARN Utils: Service 'SparkUI' could not bind on port 4041. Attempting port 4042.\n",
      "24/03/18 14:31:08 WARN Utils: Service 'SparkUI' could not bind on port 4042. Attempting port 4043.\n"
     ]
    }
   ],
   "source": [
    "from pyspark.sql import SparkSession\n",
    "spark = SparkSession.builder.appName('Missing').getOrCreate()"
   ]
  },
  {
   "cell_type": "code",
   "execution_count": 6,
   "id": "79a95946-7074-4ba9-9225-5e1853b124f7",
   "metadata": {
    "tags": []
   },
   "outputs": [
    {
     "name": "stdout",
     "output_type": "stream",
     "text": [
      "+-----+---+----------+-------+\n",
      "| name|age|experience| salary|\n",
      "+-----+---+----------+-------+\n",
      "| Htet| 21|         5| 600000|\n",
      "| Aung| 29|         4| 300000|\n",
      "| Lynn| 30|         9|1000000|\n",
      "|  Zaw| 25|         5| 400000|\n",
      "|   Su| 31|         8| 800000|\n",
      "|Thida| 26|         7|1200000|\n",
      "+-----+---+----------+-------+\n",
      "\n"
     ]
    }
   ],
   "source": [
    "training = spark.read.csv('test1.csv', header=True, inferSchema=True)\n",
    "training.show()"
   ]
  },
  {
   "cell_type": "code",
   "execution_count": 8,
   "id": "c46d1a9f-cff8-4ffb-9367-d2c3faaf9302",
   "metadata": {
    "tags": []
   },
   "outputs": [
    {
     "name": "stdout",
     "output_type": "stream",
     "text": [
      "root\n",
      " |-- name: string (nullable = true)\n",
      " |-- age: integer (nullable = true)\n",
      " |-- experience: integer (nullable = true)\n",
      " |-- salary: integer (nullable = true)\n",
      "\n"
     ]
    }
   ],
   "source": [
    "training.printSchema()"
   ]
  },
  {
   "cell_type": "code",
   "execution_count": 9,
   "id": "8a387180-6ea8-4ecc-b7ce-9014c093b001",
   "metadata": {
    "tags": []
   },
   "outputs": [
    {
     "data": {
      "text/plain": [
       "['name', 'age', 'experience', 'salary']"
      ]
     },
     "execution_count": 9,
     "metadata": {},
     "output_type": "execute_result"
    }
   ],
   "source": [
    "training.columns"
   ]
  },
  {
   "cell_type": "markdown",
   "id": "7e2e147c-b726-4d43-8afe-a607878463a6",
   "metadata": {},
   "source": [
    "**[age, experience]----> new feature ----> independent feature**"
   ]
  },
  {
   "cell_type": "code",
   "execution_count": 10,
   "id": "68ece399-d706-4b22-a15f-fd1ba3c8d505",
   "metadata": {
    "tags": []
   },
   "outputs": [],
   "source": [
    "from pyspark.ml.feature import VectorAssembler\n",
    "featureassembler = VectorAssembler(inputCols=['age','experience'],\n",
    "                                   outputCol='independent_features')"
   ]
  },
  {
   "cell_type": "code",
   "execution_count": 11,
   "id": "ad23a367-98e1-4f88-93bd-074753067eb4",
   "metadata": {
    "tags": []
   },
   "outputs": [],
   "source": [
    "output = featureassembler.transform(training)"
   ]
  },
  {
   "cell_type": "code",
   "execution_count": 12,
   "id": "d9fa70d1-41b8-4b28-a6ce-c89b2a67a90e",
   "metadata": {
    "tags": []
   },
   "outputs": [
    {
     "name": "stdout",
     "output_type": "stream",
     "text": [
      "+-----+---+----------+-------+--------------------+\n",
      "| name|age|experience| salary|independent_features|\n",
      "+-----+---+----------+-------+--------------------+\n",
      "| Htet| 21|         5| 600000|          [21.0,5.0]|\n",
      "| Aung| 29|         4| 300000|          [29.0,4.0]|\n",
      "| Lynn| 30|         9|1000000|          [30.0,9.0]|\n",
      "|  Zaw| 25|         5| 400000|          [25.0,5.0]|\n",
      "|   Su| 31|         8| 800000|          [31.0,8.0]|\n",
      "|Thida| 26|         7|1200000|          [26.0,7.0]|\n",
      "+-----+---+----------+-------+--------------------+\n",
      "\n"
     ]
    }
   ],
   "source": [
    "output.show()"
   ]
  },
  {
   "cell_type": "code",
   "execution_count": 13,
   "id": "ae07ccca-6391-474c-9ec8-9a476c219638",
   "metadata": {
    "tags": []
   },
   "outputs": [
    {
     "data": {
      "text/plain": [
       "['name', 'age', 'experience', 'salary', 'independent_features']"
      ]
     },
     "execution_count": 13,
     "metadata": {},
     "output_type": "execute_result"
    }
   ],
   "source": [
    "output.columns"
   ]
  },
  {
   "cell_type": "code",
   "execution_count": 14,
   "id": "1f0994ac-264c-42fd-9e59-94cfb7e390f8",
   "metadata": {
    "tags": []
   },
   "outputs": [
    {
     "name": "stdout",
     "output_type": "stream",
     "text": [
      "+--------------------+-------+\n",
      "|independent_features| salary|\n",
      "+--------------------+-------+\n",
      "|          [21.0,5.0]| 600000|\n",
      "|          [29.0,4.0]| 300000|\n",
      "|          [30.0,9.0]|1000000|\n",
      "|          [25.0,5.0]| 400000|\n",
      "|          [31.0,8.0]| 800000|\n",
      "|          [26.0,7.0]|1200000|\n",
      "+--------------------+-------+\n",
      "\n"
     ]
    }
   ],
   "source": [
    "final_data = output.select('independent_features', 'salary')\n",
    "final_data.show()"
   ]
  },
  {
   "cell_type": "code",
   "execution_count": 22,
   "id": "1a76801f-cb87-440d-955f-04fd83f98d92",
   "metadata": {
    "tags": []
   },
   "outputs": [
    {
     "name": "stderr",
     "output_type": "stream",
     "text": [
      "24/03/18 14:55:17 WARN Instrumentation: [db4f5576] regParam is zero, which might cause numerical instability and overfitting.\n"
     ]
    }
   ],
   "source": [
    "from pyspark.ml.regression import LinearRegression\n",
    "\n",
    "# train-test-split\n",
    "train_data, test_data = final_data.randomSplit([0.75,0.25])\n",
    "regressor = LinearRegression(featuresCol='independent_features', \n",
    "                           labelCol='salary')\n",
    "\n",
    "regressor = regressor.fit(train_data)"
   ]
  },
  {
   "cell_type": "code",
   "execution_count": 23,
   "id": "13658635-d277-40a7-921d-c628280fa23d",
   "metadata": {
    "tags": []
   },
   "outputs": [
    {
     "data": {
      "text/plain": [
       "DenseVector([-32756.0241, 203765.0602])"
      ]
     },
     "execution_count": 23,
     "metadata": {},
     "output_type": "execute_result"
    }
   ],
   "source": [
    "# coefficients\n",
    "regressor.coefficients"
   ]
  },
  {
   "cell_type": "code",
   "execution_count": 24,
   "id": "c7bbf0dc-54ff-4f5a-b567-f098ad3a0f91",
   "metadata": {
    "tags": []
   },
   "outputs": [
    {
     "data": {
      "text/plain": [
       "342921.68674699427"
      ]
     },
     "execution_count": 24,
     "metadata": {},
     "output_type": "execute_result"
    }
   ],
   "source": [
    "# intercepts\n",
    "regressor.intercept"
   ]
  },
  {
   "cell_type": "code",
   "execution_count": 25,
   "id": "4fa0b0c9-e6cb-4668-b142-4a9d0a846ea3",
   "metadata": {
    "tags": []
   },
   "outputs": [
    {
     "name": "stdout",
     "output_type": "stream",
     "text": [
      "+--------------------+-------+-----------------+\n",
      "|independent_features| salary|       prediction|\n",
      "+--------------------+-------+-----------------+\n",
      "|          [30.0,9.0]|1000000|1194126.506024098|\n",
      "+--------------------+-------+-----------------+\n",
      "\n"
     ]
    }
   ],
   "source": [
    "# prediction\n",
    "pred_results = regressor.evaluate(test_data)\n",
    "pred_results.predictions.show()"
   ]
  },
  {
   "cell_type": "code",
   "execution_count": 26,
   "id": "a14b8906-cbcf-476c-8dd7-008e1e4df6a6",
   "metadata": {
    "tags": []
   },
   "outputs": [
    {
     "data": {
      "text/plain": [
       "(194126.50602409802, 37685100341.12417)"
      ]
     },
     "execution_count": 26,
     "metadata": {},
     "output_type": "execute_result"
    }
   ],
   "source": [
    "pred_results.meanAbsoluteError, pred_results.meanSquaredError"
   ]
  },
  {
   "cell_type": "code",
   "execution_count": null,
   "id": "2acfe64f-1692-45bb-928b-e3fce91df0e0",
   "metadata": {},
   "outputs": [],
   "source": []
  }
 ],
 "metadata": {
  "kernelspec": {
   "display_name": "Python 3 (ipykernel)",
   "language": "python",
   "name": "python3"
  },
  "language_info": {
   "codemirror_mode": {
    "name": "ipython",
    "version": 3
   },
   "file_extension": ".py",
   "mimetype": "text/x-python",
   "name": "python",
   "nbconvert_exporter": "python",
   "pygments_lexer": "ipython3",
   "version": "3.11.5"
  }
 },
 "nbformat": 4,
 "nbformat_minor": 5
}
