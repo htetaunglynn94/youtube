{
 "cells": [
  {
   "cell_type": "markdown",
   "id": "8aedcae8-8f9e-42cf-b3fa-6111666b609c",
   "metadata": {},
   "source": [
    "# Gridded_Data\n",
    "[Link](https://www.youtube.com/watch?v=uCRkFwQqdJo&list=PLG19vXLQHvSAufDFgZEFAYQEwMJXklnQV&index=3)"
   ]
  },
  {
   "cell_type": "code",
   "execution_count": 1,
   "id": "e009799e-7cbb-441a-83a7-8ae6752b3e3b",
   "metadata": {},
   "outputs": [],
   "source": [
    "import os                                     # operation system\n",
    "import numpy as np                            # arrays and matrix math\n",
    "import matplotlib.pyplot as plt               # plotting\n",
    "from scipy import stats                       # summary statistics"
   ]
  },
  {
   "cell_type": "code",
   "execution_count": 2,
   "id": "f80c521c-fb0d-4a77-986d-7822e001c024",
   "metadata": {
    "tags": []
   },
   "outputs": [],
   "source": [
    "os.chdir('workspace')                         # set working directory"
   ]
  },
  {
   "cell_type": "markdown",
   "id": "adeafffd-d79b-412e-93fe-9fd59812ee93",
   "metadata": {
    "jp-MarkdownHeadingCollapsed": true,
    "tags": []
   },
   "source": [
    "## Load Binary Data to An NDARRAY"
   ]
  },
  {
   "cell_type": "code",
   "execution_count": 3,
   "id": "d7127cbd-49ce-4d3e-8735-bbf5d4c9796a",
   "metadata": {
    "tags": []
   },
   "outputs": [],
   "source": [
    "porosity_1d_array = np.fromfile('porosity_truth_map.dat')  "
   ]
  },
  {
   "cell_type": "code",
   "execution_count": 4,
   "id": "2ceae2f6-2afb-4bfd-83bd-6a67ffbccd00",
   "metadata": {
    "tags": []
   },
   "outputs": [
    {
     "data": {
      "text/plain": [
       "array([ 9.47058121,  9.91782937,  9.9798204 ,  9.91630812, 10.69861209,\n",
       "       10.56588283, 11.83384658, 12.95500949, 13.26534495, 13.47717932])"
      ]
     },
     "execution_count": 4,
     "metadata": {},
     "output_type": "execute_result"
    }
   ],
   "source": [
    "porosity_1d_array[0:10]"
   ]
  },
  {
   "cell_type": "markdown",
   "id": "001e099a-3e65-449c-9a05-fbb107963750",
   "metadata": {
    "jp-MarkdownHeadingCollapsed": true,
    "tags": []
   },
   "source": [
    "## Preview NDARRAY"
   ]
  },
  {
   "cell_type": "code",
   "execution_count": 5,
   "id": "7b0b7708-24da-4ce6-934f-216bb950b5e8",
   "metadata": {
    "tags": []
   },
   "outputs": [
    {
     "data": {
      "text/plain": [
       "array([ 9.471,  9.918,  9.98 ,  9.916, 10.699, 10.566, 11.834, 12.955,\n",
       "       13.265, 13.477])"
      ]
     },
     "execution_count": 5,
     "metadata": {},
     "output_type": "execute_result"
    }
   ],
   "source": [
    "np.set_printoptions(precision=3, threshold=1.0e10)\n",
    "porosity_1d_array[0:10]"
   ]
  },
  {
   "cell_type": "code",
   "execution_count": 6,
   "id": "d69eacbc-de7f-41de-b5bf-6bde0db6d650",
   "metadata": {
    "tags": []
   },
   "outputs": [
    {
     "data": {
      "text/plain": [
       "array([ 9.471,  9.918,  9.98 ,  9.916, 10.699, 10.566, 11.834, 12.955,\n",
       "       13.265, 13.477])"
      ]
     },
     "execution_count": 6,
     "metadata": {},
     "output_type": "execute_result"
    }
   ],
   "source": [
    "np.set_printoptions(precision=3, threshold=100)\n",
    "porosity_1d_array[0:10]"
   ]
  },
  {
   "cell_type": "code",
   "execution_count": 7,
   "id": "80201479-1c59-4a97-adfb-54508d797913",
   "metadata": {
    "tags": []
   },
   "outputs": [
    {
     "data": {
      "text/plain": [
       "(10000,)"
      ]
     },
     "execution_count": 7,
     "metadata": {},
     "output_type": "execute_result"
    }
   ],
   "source": [
    "porosity_1d_array.shape"
   ]
  },
  {
   "cell_type": "markdown",
   "id": "bbc5ec06-3edb-41d8-a5b2-dc117e176e0d",
   "metadata": {
    "jp-MarkdownHeadingCollapsed": true,
    "tags": []
   },
   "source": [
    "## Reshape NDARRAY"
   ]
  },
  {
   "cell_type": "code",
   "execution_count": 8,
   "id": "24df0215-1445-44cc-977a-cb7ac52be81b",
   "metadata": {
    "tags": []
   },
   "outputs": [
    {
     "name": "stdout",
     "output_type": "stream",
     "text": [
      "(100, 100)\n",
      "100 100\n"
     ]
    }
   ],
   "source": [
    "porosity_map = np.reshape(porosity_1d_array,(100,100))          # reshape the array to 100 x 100\n",
    "print(porosity_map.shape)\n",
    "ny = porosity_map.shape[0]\n",
    "nx = porosity_map.shape[1]\n",
    "print(nx, ny)"
   ]
  },
  {
   "cell_type": "markdown",
   "id": "c059b50c-17dc-43d6-bc6c-be0a0684d90a",
   "metadata": {
    "jp-MarkdownHeadingCollapsed": true,
    "tags": []
   },
   "source": [
    "## Flatten NDARRAY"
   ]
  },
  {
   "cell_type": "code",
   "execution_count": 9,
   "id": "2418f06d-0d1f-459c-8b8a-2ca0f01989ff",
   "metadata": {
    "tags": []
   },
   "outputs": [
    {
     "name": "stdout",
     "output_type": "stream",
     "text": [
      "[ 9.471  9.918  9.98  ... 10.763 10.309 10.866]\n"
     ]
    },
    {
     "data": {
      "text/plain": [
       "(10000,)"
      ]
     },
     "execution_count": 9,
     "metadata": {},
     "output_type": "execute_result"
    }
   ],
   "source": [
    "flatten_porosity_map = porosity_map.flatten()   # flatten 2D map\n",
    "print(flatten_porosity_map)\n",
    "flatten_porosity_map.shape"
   ]
  },
  {
   "cell_type": "markdown",
   "id": "5b3b9f31-2743-48e3-929c-eee830343b72",
   "metadata": {},
   "source": [
    "## Read and write binary files"
   ]
  },
  {
   "cell_type": "code",
   "execution_count": 10,
   "id": "fa32dfa2-3bf4-4ad5-84d6-622fab0e0de2",
   "metadata": {
    "tags": []
   },
   "outputs": [
    {
     "name": "stdout",
     "output_type": "stream",
     "text": [
      "True\n"
     ]
    }
   ],
   "source": [
    "porosity_map.tofile('porosity_test.dat')                                    # save 2D array to 1D binary file\n",
    "porosity_test = np.fromfile('porosity_test.dat')                            # read the 1D array back to 1D array\n",
    "check = np.array_equal(porosity_map, np.reshape(porosity_test, (100,100)))  # check if loaded = saved\n",
    "print(check)"
   ]
  },
  {
   "cell_type": "markdown",
   "id": "3cc8ad4c-a215-4b36-beb3-9d4c466498d3",
   "metadata": {},
   "source": [
    "## Write ASCII comma delimited files"
   ]
  },
  {
   "cell_type": "code",
   "execution_count": 11,
   "id": "63c7fd8b-5438-40c7-bbf3-afb1d0b829c6",
   "metadata": {
    "tags": []
   },
   "outputs": [],
   "source": [
    "np.savetxt('porosity_map.csv', porosity_map, delimiter=',')   # save 2D array to 2D columns delimited"
   ]
  },
  {
   "cell_type": "markdown",
   "id": "102feee9-47c2-4173-a30e-7e41085d7ef1",
   "metadata": {},
   "source": [
    "## Read ASCII comma delimited files"
   ]
  },
  {
   "cell_type": "code",
   "execution_count": 19,
   "id": "12989052-640c-40b1-8833-c28a8633dea9",
   "metadata": {
    "tags": []
   },
   "outputs": [
    {
     "name": "stdout",
     "output_type": "stream",
     "text": [
      "Is the array we wrote out and read back in the same as the original array? True.\n",
      "The loaded array has a shape (100, 100).\n"
     ]
    }
   ],
   "source": [
    "porosity_map_test = np.loadtxt('porosity_map.csv', delimiter=',')\n",
    "test = np.array_equal(porosity_map, porosity_map_test)\n",
    "print(f'Is the array we wrote out and read back in the same as the original array? {test}.')\n",
    "print(f'The loaded array has a shape {porosity_map_test.shape}.')"
   ]
  },
  {
   "cell_type": "markdown",
   "id": "95152761-3ca8-4d1d-bc13-ac2aa5f4d027",
   "metadata": {},
   "source": [
    "## Read and Write GEO-EAS files"
   ]
  },
  {
   "cell_type": "code",
   "execution_count": 23,
   "id": "9288457a-9ab5-4875-abc0-a490bf812a84",
   "metadata": {
    "tags": []
   },
   "outputs": [
    {
     "ename": "FileNotFoundError",
     "evalue": "[Errno 2] No such file or directory: 'porosity_map_GSLIB.out'",
     "output_type": "error",
     "traceback": [
      "\u001b[0;31m---------------------------------------------------------------------------\u001b[0m",
      "\u001b[0;31mFileNotFoundError\u001b[0m                         Traceback (most recent call last)",
      "Cell \u001b[0;32mIn[23], line 3\u001b[0m\n\u001b[1;32m      1\u001b[0m \u001b[38;5;28;01mimport\u001b[39;00m \u001b[38;5;21;01mgeostatspy\u001b[39;00m\u001b[38;5;21;01m.\u001b[39;00m\u001b[38;5;21;01mGSLIB\u001b[39;00m \u001b[38;5;28;01mas\u001b[39;00m \u001b[38;5;21;01mGSLIB\u001b[39;00m\n\u001b[1;32m      2\u001b[0m GSLIB\u001b[38;5;241m.\u001b[39mndarray2GSLIB(porosity_map, \u001b[38;5;124m\"\u001b[39m\u001b[38;5;124mporosity_mapGSLIB.out\u001b[39m\u001b[38;5;124m\"\u001b[39m, \u001b[38;5;124m'\u001b[39m\u001b[38;5;124mporosity\u001b[39m\u001b[38;5;124m'\u001b[39m) \u001b[38;5;66;03m# save the gribbed data to Geo-EAS format\u001b[39;00m\n\u001b[0;32m----> 3\u001b[0m porosity_map_test2, col_name \u001b[38;5;241m=\u001b[39m GSLIB\u001b[38;5;241m.\u001b[39mGSLIB2ndarray(\u001b[38;5;124m'\u001b[39m\u001b[38;5;124mporosity_map_GSLIB.out\u001b[39m\u001b[38;5;124m'\u001b[39m, \u001b[38;5;241m0\u001b[39m, nx, ny)\n\u001b[1;32m      4\u001b[0m test \u001b[38;5;241m=\u001b[39m np\u001b[38;5;241m.\u001b[39marray_equal(porosity_map\u001b[38;5;241m.\u001b[39mporosity_map_test2)\n\u001b[1;32m      5\u001b[0m \u001b[38;5;28mprint\u001b[39m(\u001b[38;5;124mf\u001b[39m\u001b[38;5;124m'\u001b[39m\u001b[38;5;124mThe ndarray from the file we read is the same as before we saved it, \u001b[39m\u001b[38;5;132;01m{\u001b[39;00mtest\u001b[38;5;132;01m}\u001b[39;00m\u001b[38;5;124m'\u001b[39m)\n",
      "File \u001b[0;32m~/anaconda3/lib/python3.11/site-packages/geostatspy/GSLIB.py:81\u001b[0m, in \u001b[0;36mGSLIB2ndarray\u001b[0;34m(data_file, kcol, nx, ny)\u001b[0m\n\u001b[1;32m     78\u001b[0m \u001b[38;5;28;01melse\u001b[39;00m:\n\u001b[1;32m     79\u001b[0m     array \u001b[38;5;241m=\u001b[39m np\u001b[38;5;241m.\u001b[39mzeros(nx)\n\u001b[0;32m---> 81\u001b[0m \u001b[38;5;28;01mwith\u001b[39;00m \u001b[38;5;28mopen\u001b[39m(data_file) \u001b[38;5;28;01mas\u001b[39;00m f:\n\u001b[1;32m     82\u001b[0m     head \u001b[38;5;241m=\u001b[39m [\u001b[38;5;28mnext\u001b[39m(f) \u001b[38;5;28;01mfor\u001b[39;00m _ \u001b[38;5;129;01min\u001b[39;00m \u001b[38;5;28mrange\u001b[39m(\u001b[38;5;241m2\u001b[39m)]  \u001b[38;5;66;03m# read first two lines\u001b[39;00m\n\u001b[1;32m     83\u001b[0m     line2 \u001b[38;5;241m=\u001b[39m head[\u001b[38;5;241m1\u001b[39m]\u001b[38;5;241m.\u001b[39msplit()\n",
      "\u001b[0;31mFileNotFoundError\u001b[0m: [Errno 2] No such file or directory: 'porosity_map_GSLIB.out'"
     ]
    }
   ],
   "source": [
    "import geostatspy.GSLIB as GSLIB\n",
    "GSLIB.ndarray2GSLIB(porosity_map, \"porosity_mapGSLIB.out\", 'porosity') # save the gribbed data to Geo-EAS format\n",
    "porosity_map_test2, col_name = GSLIB.GSLIB2ndarray('porosity_map_GSLIB.out', 0, nx, ny)\n",
    "test = np.array_equal(porosity_map.porosity_map_test2)\n",
    "print(f'The ndarray from the file we read is the same as before we saved it, {test}')"
   ]
  },
  {
   "cell_type": "code",
   "execution_count": null,
   "id": "b098b6be-9ee3-465d-bb33-1f45217c1dfc",
   "metadata": {},
   "outputs": [],
   "source": []
  }
 ],
 "metadata": {
  "kernelspec": {
   "display_name": "Python 3 (ipykernel)",
   "language": "python",
   "name": "python3"
  },
  "language_info": {
   "codemirror_mode": {
    "name": "ipython",
    "version": 3
   },
   "file_extension": ".py",
   "mimetype": "text/x-python",
   "name": "python",
   "nbconvert_exporter": "python",
   "pygments_lexer": "ipython3",
   "version": "3.11.5"
  }
 },
 "nbformat": 4,
 "nbformat_minor": 5
}
