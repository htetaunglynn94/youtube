{
 "cells": [
  {
   "cell_type": "markdown",
   "id": "6355deb2-cab6-439e-8ab2-0094a6652a2f",
   "metadata": {},
   "source": [
    "# Python Basic Dataframe"
   ]
  },
  {
   "cell_type": "markdown",
   "id": "ca977b5f-b31a-42db-818c-e21132542a35",
   "metadata": {},
   "source": [
    "[Lecture](https://www.youtube.com/watch?v=rku5rZxS0AA&list=PLG19vXLQHvSAufDFgZEFAYQEwMJXklnQV&index=1)"
   ]
  },
  {
   "cell_type": "code",
   "execution_count": 1,
   "id": "b717c13a-d8cb-434c-9677-e7996205994d",
   "metadata": {
    "tags": []
   },
   "outputs": [],
   "source": [
    "import pandas as pd               # dataframe \n",
    "import numpy as np                # array and matrix math\n",
    "import os                         # operation system\n",
    "import matplotlib.pyplot as plt   # plotting"
   ]
  },
  {
   "cell_type": "markdown",
   "id": "2168bfe4-40b2-47de-a416-8255522b6294",
   "metadata": {},
   "source": [
    "**Select working directory**"
   ]
  },
  {
   "cell_type": "code",
   "execution_count": null,
   "id": "83ff7fb0-34ff-4556-bbea-bf337ddb601d",
   "metadata": {},
   "outputs": [],
   "source": [
    "os.chir()"
   ]
  }
 ],
 "metadata": {
  "kernelspec": {
   "display_name": "Python 3 (ipykernel)",
   "language": "python",
   "name": "python3"
  },
  "language_info": {
   "codemirror_mode": {
    "name": "ipython",
    "version": 3
   },
   "file_extension": ".py",
   "mimetype": "text/x-python",
   "name": "python",
   "nbconvert_exporter": "python",
   "pygments_lexer": "ipython3",
   "version": "3.11.5"
  }
 },
 "nbformat": 4,
 "nbformat_minor": 5
}
