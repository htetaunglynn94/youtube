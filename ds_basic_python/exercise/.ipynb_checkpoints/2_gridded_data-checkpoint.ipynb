{
 "cells": [
  {
   "cell_type": "markdown",
   "id": "8aedcae8-8f9e-42cf-b3fa-6111666b609c",
   "metadata": {},
   "source": [
    "# Gridded_Data\n",
    "[Link](https://www.youtube.com/watch?v=uCRkFwQqdJo&list=PLG19vXLQHvSAufDFgZEFAYQEwMJXklnQV&index=3)"
   ]
  },
  {
   "cell_type": "code",
   "execution_count": 1,
   "id": "e009799e-7cbb-441a-83a7-8ae6752b3e3b",
   "metadata": {},
   "outputs": [],
   "source": [
    "import os                                     # operation system\n",
    "import numpy as np                            # arrays and matrix math\n",
    "import matplotlib.pyplot as plt               # plotting\n",
    "from scipy import stats                       # summary statistics"
   ]
  },
  {
   "cell_type": "code",
   "execution_count": 2,
   "id": "f80c521c-fb0d-4a77-986d-7822e001c024",
   "metadata": {
    "tags": []
   },
   "outputs": [],
   "source": [
    "os.chdir('workspace')                         # set working directory"
   ]
  },
  {
   "cell_type": "markdown",
   "id": "adeafffd-d79b-412e-93fe-9fd59812ee93",
   "metadata": {
    "jp-MarkdownHeadingCollapsed": true,
    "tags": []
   },
   "source": [
    "## Load Binary Data to An NDARRAY"
   ]
  },
  {
   "cell_type": "code",
   "execution_count": 3,
   "id": "d7127cbd-49ce-4d3e-8735-bbf5d4c9796a",
   "metadata": {
    "tags": []
   },
   "outputs": [],
   "source": [
    "porosity_1d_array = np.fromfile('porosity_truth_map.dat')  "
   ]
  },
  {
   "cell_type": "code",
   "execution_count": 4,
   "id": "2ceae2f6-2afb-4bfd-83bd-6a67ffbccd00",
   "metadata": {
    "tags": []
   },
   "outputs": [
    {
     "data": {
      "text/plain": [
       "array([ 9.47058121,  9.91782937,  9.9798204 ,  9.91630812, 10.69861209,\n",
       "       10.56588283, 11.83384658, 12.95500949, 13.26534495, 13.47717932])"
      ]
     },
     "execution_count": 4,
     "metadata": {},
     "output_type": "execute_result"
    }
   ],
   "source": [
    "porosity_1d_array[0:10]"
   ]
  },
  {
   "cell_type": "markdown",
   "id": "001e099a-3e65-449c-9a05-fbb107963750",
   "metadata": {
    "jp-MarkdownHeadingCollapsed": true,
    "tags": []
   },
   "source": [
    "## Preview NDARRAY"
   ]
  },
  {
   "cell_type": "code",
   "execution_count": 5,
   "id": "7b0b7708-24da-4ce6-934f-216bb950b5e8",
   "metadata": {
    "tags": []
   },
   "outputs": [
    {
     "data": {
      "text/plain": [
       "array([ 9.471,  9.918,  9.98 ,  9.916, 10.699, 10.566, 11.834, 12.955,\n",
       "       13.265, 13.477])"
      ]
     },
     "execution_count": 5,
     "metadata": {},
     "output_type": "execute_result"
    }
   ],
   "source": [
    "np.set_printoptions(precision=3, threshold=1.0e10)\n",
    "porosity_1d_array[0:10]"
   ]
  },
  {
   "cell_type": "code",
   "execution_count": 7,
   "id": "d69eacbc-de7f-41de-b5bf-6bde0db6d650",
   "metadata": {
    "tags": []
   },
   "outputs": [
    {
     "data": {
      "text/plain": [
       "array([ 9.471,  9.918,  9.98 ,  9.916, 10.699, 10.566, 11.834, 12.955,\n",
       "       13.265, 13.477])"
      ]
     },
     "execution_count": 7,
     "metadata": {},
     "output_type": "execute_result"
    }
   ],
   "source": [
    "np.set_printoptions(precision=3, threshold=100)\n",
    "porosity_1d_array[0:10]"
   ]
  },
  {
   "cell_type": "code",
   "execution_count": 8,
   "id": "80201479-1c59-4a97-adfb-54508d797913",
   "metadata": {
    "tags": []
   },
   "outputs": [
    {
     "data": {
      "text/plain": [
       "(10000,)"
      ]
     },
     "execution_count": 8,
     "metadata": {},
     "output_type": "execute_result"
    }
   ],
   "source": [
    "porosity_1d_array.shape"
   ]
  },
  {
   "cell_type": "markdown",
   "id": "bbc5ec06-3edb-41d8-a5b2-dc117e176e0d",
   "metadata": {
    "jp-MarkdownHeadingCollapsed": true,
    "tags": []
   },
   "source": [
    "## Reshape NDARRAY"
   ]
  },
  {
   "cell_type": "code",
   "execution_count": 9,
   "id": "24df0215-1445-44cc-977a-cb7ac52be81b",
   "metadata": {
    "tags": []
   },
   "outputs": [
    {
     "name": "stdout",
     "output_type": "stream",
     "text": [
      "(100, 100)\n",
      "100 100\n"
     ]
    }
   ],
   "source": [
    "porosity_map = np.reshape(porosity_1d_array,(100,100))          # reshape the array to 100 x 100\n",
    "print(porosity_map.shape)\n",
    "ny = porosity_map.shape[0]\n",
    "nx = porosity_map.shape[1]\n",
    "print(nx, ny)"
   ]
  },
  {
   "cell_type": "markdown",
   "id": "c059b50c-17dc-43d6-bc6c-be0a0684d90a",
   "metadata": {
    "jp-MarkdownHeadingCollapsed": true,
    "tags": []
   },
   "source": [
    "## Flatten NDARRAY"
   ]
  },
  {
   "cell_type": "code",
   "execution_count": 11,
   "id": "2418f06d-0d1f-459c-8b8a-2ca0f01989ff",
   "metadata": {
    "tags": []
   },
   "outputs": [
    {
     "name": "stdout",
     "output_type": "stream",
     "text": [
      "[ 9.471  9.918  9.98  ... 10.763 10.309 10.866]\n"
     ]
    },
    {
     "data": {
      "text/plain": [
       "(10000,)"
      ]
     },
     "execution_count": 11,
     "metadata": {},
     "output_type": "execute_result"
    }
   ],
   "source": [
    "flatten_porosity_map = porosity_map.flatten()   # flatten 2D map\n",
    "print(flatten_porosity_map)\n",
    "flatten_porosity_map.shape"
   ]
  },
  {
   "cell_type": "markdown",
   "id": "5b3b9f31-2743-48e3-929c-eee830343b72",
   "metadata": {},
   "source": [
    "## Read and write binary files"
   ]
  },
  {
   "cell_type": "code",
   "execution_count": 12,
   "id": "fa32dfa2-3bf4-4ad5-84d6-622fab0e0de2",
   "metadata": {
    "tags": []
   },
   "outputs": [
    {
     "name": "stdout",
     "output_type": "stream",
     "text": [
      "True\n"
     ]
    }
   ],
   "source": [
    "porosity_map.tofile('porosity_test.dat')                                    # save 2D array to 1D bin\n",
    "porosity_test = np.fromfile('porosity_test.dat')                            # read the 1D array back to 1D array\n",
    "check = np.array_equal(porosity_map, np.reshape(porosity_test, (100,100)))  # check if loaded = saved\n",
    "print(check)"
   ]
  },
  {
   "cell_type": "code",
   "execution_count": null,
   "id": "f2469c55-3cd4-4020-b66b-2e8d6f8d7d5c",
   "metadata": {},
   "outputs": [],
   "source": []
  }
 ],
 "metadata": {
  "kernelspec": {
   "display_name": "Python 3 (ipykernel)",
   "language": "python",
   "name": "python3"
  },
  "language_info": {
   "codemirror_mode": {
    "name": "ipython",
    "version": 3
   },
   "file_extension": ".py",
   "mimetype": "text/x-python",
   "name": "python",
   "nbconvert_exporter": "python",
   "pygments_lexer": "ipython3",
   "version": "3.11.5"
  }
 },
 "nbformat": 4,
 "nbformat_minor": 5
}
